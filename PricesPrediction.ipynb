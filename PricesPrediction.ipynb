{
 "cells": [
  {
   "cell_type": "markdown",
   "source": [
    "IMPORTING THE REQUIRED LIBRARIES"
   ],
   "metadata": {}
  },
  {
   "cell_type": "code",
   "execution_count": null,
   "source": [
    "import numpy as np\n",
    "import pandas as pd\n",
    "import matplotlib.pyplot as plt\n",
    "import seaborn as sns"
   ],
   "outputs": [],
   "metadata": {}
  },
  {
   "cell_type": "code",
   "execution_count": null,
   "source": [],
   "outputs": [],
   "metadata": {}
  }
 ],
 "metadata": {
  "orig_nbformat": 4,
  "language_info": {
   "name": "python",
   "version": "3.9.2"
  },
  "kernelspec": {
   "name": "python3",
   "display_name": "Python 3.9.2 64-bit ('env2': venv)"
  },
  "interpreter": {
   "hash": "0c52a3689ffeb732ba944c4317ce9d477d5fa1c5469f271e3526d7ba1b60fd6b"
  }
 },
 "nbformat": 4,
 "nbformat_minor": 2
}